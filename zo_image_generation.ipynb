{
 "cells": [
  {
   "cell_type": "markdown",
   "metadata": {},
   "source": [
    "# Mount Drive if Necessary"
   ]
  },
  {
   "cell_type": "code",
   "execution_count": null,
   "metadata": {},
   "outputs": [],
   "source": [
    "from google.colab import drive\n",
    "import os\n",
    "\n",
    "drive.mount('/content/drive')\n",
    "os.chdir('/content/drive/MyDrive/EPFL/25spring/CS439')"
   ]
  },
  {
   "cell_type": "markdown",
   "metadata": {},
   "source": [
    "# Imports and Prepare Model"
   ]
  },
  {
   "cell_type": "code",
   "execution_count": null,
   "metadata": {},
   "outputs": [],
   "source": [
    "import torch\n",
    "import torch.nn as nn\n",
    "import torch.optim as optim\n",
    "from torchvision.datasets import STL10\n",
    "from torchvision import transforms\n",
    "from torch.utils.data import DataLoader, ConcatDataset, random_split, Subset\n",
    "from torch.nn.functional import interpolate\n",
    "from torchvision.models import resnet50, ResNet50_Weights\n",
    "import numpy as np\n",
    "import torch.nn.functional as F\n",
    "import matplotlib.pyplot as plt\n",
    "import random\n",
    "from zo_utils import*\n",
    "from zo_attacks import*\n",
    "\n",
    "\n",
    "device = torch.device(\"cuda\" if torch.cuda.is_available() else \"cpu\")"
   ]
  },
  {
   "cell_type": "code",
   "execution_count": null,
   "metadata": {},
   "outputs": [],
   "source": [
    "model_path = \"resnet50_stl10.pth\" #change if necessary\n",
    "\n",
    "\n",
    "# Reinitialize model structure\n",
    "model = resnet50(weights=ResNet50_Weights.IMAGENET1K_V2)\n",
    "model.fc = nn.Linear(2048, 10)\n",
    "\n",
    "# Load trained weights\n",
    "model.load_state_dict(torch.load(\"models/resnet50_stl10.pth\"))\n",
    "\n",
    "# Move to GPU and eval mode\n",
    "device = torch.device(\"cuda\" if torch.cuda.is_available() else \"cpu\")\n",
    "model = model.to(device)\n",
    "model.eval()"
   ]
  },
  {
   "cell_type": "markdown",
   "metadata": {},
   "source": [
    "# Experiments"
   ]
  },
  {
   "cell_type": "code",
   "execution_count": null,
   "metadata": {},
   "outputs": [],
   "source": [
    "# Get Data\n",
    "\n",
    "transform = transforms.Compose([\n",
    "    transforms.RandomHorizontalFlip(),\n",
    "    transforms.RandomCrop(96, padding=12),\n",
    "    transforms.ToTensor(),\n",
    "    transforms.Normalize((0.5, 0.5, 0.5), (0.5, 0.5, 0.5))\n",
    "])\n",
    "\n",
    "trainset = STL10(root='./data', split='train', download=True, transform=transform)\n",
    "testset = STL10(root='./data', split='test', download=True, transform=transform)\n",
    "\n",
    "\n",
    "trainloader = DataLoader(trainset, batch_size=32, shuffle=True, num_workers=0)\n",
    "testloader = DataLoader(testset, batch_size=32, shuffle=False, num_workers=0)\n",
    "\n"
   ]
  },
  {
   "cell_type": "code",
   "execution_count": null,
   "metadata": {},
   "outputs": [],
   "source": [
    "image, label = testloader.dataset[4]\n",
    "image = image.unsqueeze(0).to(device)\n",
    "label = torch.tensor([label], device=device)\n"
   ]
  },
  {
   "cell_type": "code",
   "execution_count": null,
   "metadata": {},
   "outputs": [],
   "source": [
    "# Zero order PGD\n",
    "\n",
    "adv, pred = zero_pgd_attack(model, image, label.item(), steps=200, num_dirs=100)\n",
    "plot_original_vs_adversarial(image, adv, label.item(), pred, title=\"Zero order PGD\")\n"
   ]
  },
  {
   "cell_type": "code",
   "execution_count": null,
   "metadata": {},
   "outputs": [],
   "source": [
    "# Zero order projected ADAM\n",
    "\n",
    "adv, pred = zero_pgd_attack_adam(model, image, label.item(), steps=200, num_dirs=100)\n",
    "plot_original_vs_adversarial(image, adv, label.item(), pred, title=\"Zero order projected ADAM\")\n"
   ]
  },
  {
   "cell_type": "code",
   "execution_count": null,
   "metadata": {},
   "outputs": [],
   "source": [
    "# ZOO with GD\n",
    "\n",
    "adv, pred = zoo_attack(model, image, label.item(), steps=200, num_dirs=100, alpha=100, lr=0.2)\n",
    "plot_original_vs_adversarial(image, adv, label.item(), pred, title=\"ZOO with GD\")\n"
   ]
  },
  {
   "cell_type": "code",
   "execution_count": null,
   "metadata": {},
   "outputs": [],
   "source": [
    "# ZOO with ADAM\n",
    "\n",
    "adv, pred = zoo_attack_adam(model, image, label.item(), steps=200, num_dirs=100, lr=0.2, alpha=100)\n",
    "plot_original_vs_adversarial(image, adv, label.item(), pred, title=\"ZOO with ADAM\")\n"
   ]
  },
  {
   "cell_type": "code",
   "execution_count": null,
   "metadata": {},
   "outputs": [],
   "source": [
    "# Bandit with L2 norm\n",
    "\n",
    "adv, pred = bandit_l2_attack(model, image, label.item(), steps=200, lr=0.5, eta=0.1, delta=1e-2, epsilon=1e-2, num_dirs=100,)\n",
    "plot_original_vs_adversarial(image, adv, label.item(), pred, title=\"Bandit with L2\")"
   ]
  },
  {
   "cell_type": "code",
   "execution_count": null,
   "metadata": {},
   "outputs": [],
   "source": [
    "# Bandit with L∞ norm\n",
    "\n",
    "adv, pred = bandit_linf_attack(model, image, label.item(), steps=200, lr=1.0, eta=100, delta=1.0, epsilon=0.1, num_dirs=100)\n",
    "plot_original_vs_adversarial(image, adv, label.item(), pred, title=\"Bandit with L∞\")"
   ]
  },
  {
   "cell_type": "code",
   "execution_count": null,
   "metadata": {},
   "outputs": [],
   "source": [
    "# Square Attack\n",
    "\n",
    "adv, pred = square_attack(model, image, label.item(), steps=500)\n",
    "plot_original_vs_adversarial(image, adv, label.item(), pred, title=\"Square Attack\")"
   ]
  }
 ],
 "metadata": {
  "kernelspec": {
   "display_name": "optml",
   "language": "python",
   "name": "python3"
  },
  "language_info": {
   "name": "python",
   "version": "3.13.2"
  }
 },
 "nbformat": 4,
 "nbformat_minor": 2
}
